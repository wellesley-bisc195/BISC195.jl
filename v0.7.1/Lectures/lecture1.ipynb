{
 "cells": [
  {
   "cell_type": "markdown",
   "source": [
    "# [Lecture 1 - Getting Started]\n",
    "\n",
    "**Essential Skills For Computational Biology**\n",
    "\n",
    "*2020-06-08*\n",
    "\n",
    "Kevin Bonham, PhD"
   ],
   "metadata": {
    "name": "slideshow ",
    "slideshow": {
     "slide_type": "slide"
    }
   }
  },
  {
   "cell_type": "markdown",
   "source": [
    "## Learning Objectives\n",
    "After completing this lesson, students will be able to:\n",
    "- Navigate their computer's file system using a command line interface\n",
    "- Use a plain text editor (VS Code) to modify source code\n",
    "- Clone, commit to, and push from a git repository"
   ],
   "metadata": {
    "name": "A slide ",
    "slideshow": {
     "slide_type": "subslide"
    }
   }
  },
  {
   "cell_type": "markdown",
   "source": [
    "## What is a computer program?"
   ],
   "metadata": {
    "name": "A slide ",
    "slideshow": {
     "slide_type": "slide"
    }
   }
  },
  {
   "outputs": [],
   "cell_type": "code",
   "source": [
    "function hello(x)\n",
    "    println(\"Hello, $(x)!\")\n",
    "end"
   ],
   "metadata": {
    "name": "A slide ",
    "slideshow": {
     "slide_type": "fragment"
    }
   },
   "execution_count": null
  },
  {
   "outputs": [],
   "cell_type": "code",
   "source": [
    "hello(\"Students\")"
   ],
   "metadata": {
    "name": "a code block ",
    "slideshow": {
     "slide_type": "fragment"
    }
   },
   "execution_count": null
  },
  {
   "cell_type": "markdown",
   "source": [
    "## Programs are just things and actions"
   ],
   "metadata": {
    "name": "a subslide ",
    "slideshow": {
     "slide_type": "subslide"
    }
   }
  },
  {
   "cell_type": "markdown",
   "source": [
    "- \"Things\" in computer code are data"
   ],
   "metadata": {
    "name": "a subslide ",
    "slideshow": {
     "slide_type": "fragment"
    }
   }
  },
  {
   "cell_type": "markdown",
   "source": [
    "- \"Actions\" are generally called \"functions\""
   ],
   "metadata": {
    "name": "a subslide ",
    "slideshow": {
     "slide_type": "fragment"
    }
   }
  },
  {
   "cell_type": "markdown",
   "source": [
    "- Real life is filled with programs"
   ],
   "metadata": {
    "name": "a subslide ",
    "slideshow": {
     "slide_type": "fragment"
    }
   }
  },
  {
   "cell_type": "markdown",
   "source": [
    "## Computer programs are just things and actions"
   ],
   "metadata": {
    "name": "a subslide ",
    "slideshow": {
     "slide_type": "subslide"
    }
   }
  },
  {
   "cell_type": "markdown",
   "source": [
    "- Computer languages are procedural"
   ],
   "metadata": {
    "name": "a subslide ",
    "slideshow": {
     "slide_type": "fragment"
    }
   }
  },
  {
   "cell_type": "markdown",
   "source": [
    "- Computer languages are literal"
   ],
   "metadata": {
    "name": "a subslide ",
    "slideshow": {
     "slide_type": "fragment"
    }
   }
  },
  {
   "outputs": [],
   "cell_type": "code",
   "source": [
    "42 / 2"
   ],
   "metadata": {
    "name": "a subslide ",
    "slideshow": {
     "slide_type": "fragment"
    }
   },
   "execution_count": null
  },
  {
   "outputs": [],
   "cell_type": "code",
   "source": [
    "# 5 + \"2\""
   ],
   "metadata": {
    "name": "a subslide ",
    "slideshow": {
     "slide_type": "fragment"
    }
   },
   "execution_count": null
  },
  {
   "cell_type": "markdown",
   "source": [
    "## What are \"essential\" skills?"
   ],
   "metadata": {
    "name": "a subslide ",
    "slideshow": {
     "slide_type": "slide"
    }
   }
  },
  {
   "cell_type": "markdown",
   "source": [
    "- How do I think about writing a computer program?"
   ],
   "metadata": {
    "name": "a subslide ",
    "slideshow": {
     "slide_type": "fragment"
    }
   }
  },
  {
   "cell_type": "markdown",
   "source": [
    "- When the code I've written has an error, what steps do I take to debug it?"
   ],
   "metadata": {
    "name": "a subslide ",
    "slideshow": {
     "slide_type": "fragment"
    }
   }
  },
  {
   "cell_type": "markdown",
   "source": [
    "- How do I keep track of the code that I've written?"
   ],
   "metadata": {
    "name": "a subslide ",
    "slideshow": {
     "slide_type": "fragment"
    }
   }
  },
  {
   "cell_type": "markdown",
   "source": [
    "- How do I get help when I'm stuck?"
   ],
   "metadata": {
    "name": "a subslide ",
    "slideshow": {
     "slide_type": "fragment"
    }
   }
  },
  {
   "cell_type": "markdown",
   "source": [
    "## Course components"
   ],
   "metadata": {
    "name": "A slide ",
    "slideshow": {
     "slide_type": "slide"
    }
   }
  },
  {
   "cell_type": "markdown",
   "source": [
    "- Readings and exercises from [_Think Julia_](https://benlauwens.github.io/ThinkJulia.jl/latest/book.html)\n",
    "![think julia](https://imgur.com/yGSTdQe.png)"
   ],
   "metadata": {
    "name": "A slide ",
    "slideshow": {
     "slide_type": "fragment"
    }
   }
  },
  {
   "cell_type": "markdown",
   "source": [
    "- Reading and exercises from [BISC195 docs](https://wellesley-bisc195.github.io/BISC195.jl/dev/)\n",
    "![BISC195 website](https://imgur.com/9AgXhjP.png)"
   ],
   "metadata": {
    "name": "A slide ",
    "slideshow": {
     "slide_type": "subslide"
    }
   }
  },
  {
   "cell_type": "markdown",
   "source": [
    "- Problem sets on github classroom\n",
    "![Assignment 01](https://imgur.com/Tb7BLuy.png)"
   ],
   "metadata": {
    "name": "A slide ",
    "slideshow": {
     "slide_type": "subslide"
    }
   }
  },
  {
   "cell_type": "markdown",
   "source": [
    "## Grading\n",
    "![Assignment 01](https://i.imgur.com/AM6tw55.jpg)"
   ],
   "metadata": {
    "name": "A slide ",
    "slideshow": {
     "slide_type": "subslide"
    }
   }
  },
  {
   "cell_type": "markdown",
   "source": [
    "## Assignments"
   ],
   "metadata": {
    "name": "A slide ",
    "slideshow": {
     "slide_type": "subslide"
    }
   }
  },
  {
   "cell_type": "markdown",
   "source": [
    "- There will be ~10 \"Assignments,\" delivered on github classroom"
   ],
   "metadata": {
    "name": "A slide ",
    "slideshow": {
     "slide_type": "fragment"
    }
   }
  },
  {
   "cell_type": "markdown",
   "source": [
    "- All assignments will be worth the same amount"
   ],
   "metadata": {
    "name": "A slide ",
    "slideshow": {
     "slide_type": "fragment"
    }
   }
  },
  {
   "cell_type": "markdown",
   "source": [
    "- All assignments will have automated \"unit tests\" that will help you complete them"
   ],
   "metadata": {
    "name": "A slide ",
    "slideshow": {
     "slide_type": "fragment"
    }
   }
  },
  {
   "cell_type": "markdown",
   "source": [
    "- All assignments will have \"due dates\" to help keep you up with course material,\n",
    "  but you will still get full credit for anything turned in by the end of the term."
   ],
   "metadata": {
    "name": "A slide ",
    "slideshow": {
     "slide_type": "fragment"
    }
   }
  },
  {
   "cell_type": "markdown",
   "source": [
    "## Course Schedule\n",
    "\n",
    "**Dates**: June 8 - July 17, 2020\n",
    "\n",
    "**Lecture**: Tu/Th 10-11am - Reserved for lecture\n",
    "\n",
    "**Office hours / lab**:\n",
    "- M/W 10am-12pm\n",
    "- Tu/Th 1-3pm"
   ],
   "metadata": {
    "name": "A slide ",
    "slideshow": {
     "slide_type": "subslide"
    }
   }
  },
  {
   "cell_type": "markdown",
   "source": [
    "**All students are expected to attend lecture**\n",
    "\n",
    "**All students should be able to come to at least two lab periods**"
   ],
   "metadata": {
    "name": "A slide ",
    "slideshow": {
     "slide_type": "fragment"
    }
   }
  },
  {
   "cell_type": "markdown",
   "source": [
    "## Let's get started!\n",
    "\n",
    "- Course bible: https://wellesley-bisc195.github.io/BISC195.jl/stable/\n",
    "- [Lesson 1 - Getting Started](https://wellesley-bisc195.github.io/BISC195.jl/stable/Lessons/Lesson1/)"
   ],
   "metadata": {
    "name": "A slide ",
    "slideshow": {
     "slide_type": "subslide"
    }
   }
  },
  {
   "cell_type": "markdown",
   "source": [
    "---\n",
    "\n",
    "*This notebook was generated using [Literate.jl](https://github.com/fredrikekre/Literate.jl).*"
   ],
   "metadata": {}
  }
 ],
 "nbformat_minor": 3,
 "metadata": {
  "language_info": {
   "file_extension": ".jl",
   "mimetype": "application/julia",
   "name": "julia",
   "version": "1.4.2"
  },
  "kernelspec": {
   "name": "julia-1.4",
   "display_name": "Julia 1.4.2",
   "language": "julia"
  }
 },
 "nbformat": 4
}
