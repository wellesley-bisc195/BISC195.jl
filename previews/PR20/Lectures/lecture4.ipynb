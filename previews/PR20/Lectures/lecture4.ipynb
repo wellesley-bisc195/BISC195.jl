{
 "cells": [
  {
   "cell_type": "markdown",
   "source": [
    "# Lecture 4 - Scope and Fruitful Functions\n",
    "\n",
    "**Essential Skills For Computational Biology**\n",
    "\n",
    "*2020-06-16*\n",
    "\n",
    "Kevin Bonham, PhD"
   ],
   "metadata": {
    "name": "slideshow ",
    "slideshow": {
     "slide_type": "slide"
    }
   }
  },
  {
   "cell_type": "markdown",
   "source": [
    "## \"Scope\" is where references live\n",
    "\n",
    "- A reference is a human-readable name for data or action\n",
    "  - eg. a variable, argument, or function name\n",
    "- All references have scope\n",
    "  - sometimes the scope is \"global\" (available everywhere)\n",
    "  - sometimes the scope is narrow (eg. inside a loop)\n",
    "- In different scopes, the same name may reference different things"
   ],
   "metadata": {
    "name": "A slide ",
    "slideshow": {
     "slide_type": "slide"
    }
   }
  },
  {
   "outputs": [],
   "cell_type": "code",
   "source": [
    "i = 3\n",
    "\n",
    "for i in 1:5\n",
    "    print(i, \" \")\n",
    "end"
   ],
   "metadata": {
    "name": "A slide ",
    "slideshow": {
     "slide_type": "subslide"
    }
   },
   "execution_count": null
  },
  {
   "outputs": [],
   "cell_type": "code",
   "source": [
    "i"
   ],
   "metadata": {
    "name": "A slide ",
    "slideshow": {
     "slide_type": "fragment"
    }
   },
   "execution_count": null
  },
  {
   "outputs": [],
   "cell_type": "code",
   "source": [
    "myvar = \"Green eggs\"\n",
    "function ham(myvar)\n",
    "    myvar = \"ham\"\n",
    "    return myvar\n",
    "end"
   ],
   "metadata": {
    "name": "A slide ",
    "slideshow": {
     "slide_type": "subslide"
    }
   },
   "execution_count": null
  },
  {
   "outputs": [],
   "cell_type": "code",
   "source": [
    "myvar"
   ],
   "metadata": {
    "name": "A slide ",
    "slideshow": {
     "slide_type": "fragment"
    }
   },
   "execution_count": null
  },
  {
   "outputs": [],
   "cell_type": "code",
   "source": [
    "function decrement4()\n",
    "    j = 4\n",
    "    while j > 0\n",
    "        print(j, \" \")\n",
    "        j = j - 1\n",
    "    end\n",
    "    return j\n",
    "end\n",
    "decrement4()"
   ],
   "metadata": {
    "name": "A slide ",
    "slideshow": {
     "slide_type": "subslide"
    }
   },
   "execution_count": null
  },
  {
   "outputs": [],
   "cell_type": "code",
   "source": [
    "\n",
    "# copy to REPL\n",
    "j = 4\n",
    "\n",
    "while j > 0\n",
    "    print(j, \" \")\n",
    "    j = j - 1\n",
    "end"
   ],
   "metadata": {
    "name": "A slide ",
    "slideshow": {
     "slide_type": "fragment"
    }
   },
   "execution_count": null
  },
  {
   "cell_type": "markdown",
   "source": [
    "## Fruitful functions and the perils of printing\n",
    "\n",
    "- returned values are printed in the REPL\n",
    "- printed values are not (necessarily) returned"
   ],
   "metadata": {
    "name": "A slide ",
    "slideshow": {
     "slide_type": "slide"
    }
   }
  },
  {
   "outputs": [],
   "cell_type": "code",
   "source": [
    "\n",
    "function verbose(thing)\n",
    "    println(thing)\n",
    "    return thing\n",
    "end"
   ],
   "metadata": {
    "name": "A slide ",
    "slideshow": {
     "slide_type": "subslide"
    }
   },
   "execution_count": null
  },
  {
   "outputs": [],
   "cell_type": "code",
   "source": [
    "verbose(true)"
   ],
   "metadata": {
    "name": "A slide ",
    "slideshow": {
     "slide_type": "fragment"
    }
   },
   "execution_count": null
  },
  {
   "outputs": [],
   "cell_type": "code",
   "source": [
    "verbose(1)\n",
    "verbose(2)\n",
    "verbose(3)"
   ],
   "metadata": {
    "name": "A slide ",
    "slideshow": {
     "slide_type": "fragment"
    }
   },
   "execution_count": null
  },
  {
   "outputs": [],
   "cell_type": "code",
   "source": [
    "verbose(\"woah\");"
   ],
   "metadata": {
    "name": "A slide ",
    "slideshow": {
     "slide_type": "fragment"
    }
   },
   "execution_count": null
  },
  {
   "cell_type": "markdown",
   "source": [
    "## A reminder: I make mistakes\n",
    "\n",
    "- Several people have encountered tests that failed even\n",
    "  though they had correct answers\n",
    "- Don't bang your head against the wall (for too long)\n",
    "- We will still make you work for it\n",
    "- Not all difficulty is desirable"
   ],
   "metadata": {
    "name": "A slide ",
    "slideshow": {
     "slide_type": "slide"
    }
   }
  },
  {
   "cell_type": "markdown",
   "source": [
    "## One other reminder: Helping eachother is ok"
   ],
   "metadata": {
    "name": "A slide ",
    "slideshow": {
     "slide_type": "subslide"
    }
   }
  },
  {
   "cell_type": "markdown",
   "source": [
    "### (Just don't copy-paste code from one another)"
   ],
   "metadata": {
    "name": "A slide ",
    "slideshow": {
     "slide_type": "fragment"
    }
   }
  },
  {
   "cell_type": "markdown",
   "source": [
    "## Final project ideas\n",
    "\n",
    "- COVID data analysis\n",
    "- SARS-CoV2 evolution / strain analysis\n",
    "- Police violence data analysis\n",
    "- Your idea here"
   ],
   "metadata": {
    "name": "A slide ",
    "slideshow": {
     "slide_type": "subslide"
    }
   }
  },
  {
   "cell_type": "markdown",
   "source": [
    "---\n",
    "\n",
    "*This notebook was generated using [Literate.jl](https://github.com/fredrikekre/Literate.jl).*"
   ],
   "metadata": {}
  }
 ],
 "nbformat_minor": 3,
 "metadata": {
  "language_info": {
   "file_extension": ".jl",
   "mimetype": "application/julia",
   "name": "julia",
   "version": "1.5.3"
  },
  "kernelspec": {
   "name": "julia-1.5",
   "display_name": "Julia 1.5.3",
   "language": "julia"
  }
 },
 "nbformat": 4
}
