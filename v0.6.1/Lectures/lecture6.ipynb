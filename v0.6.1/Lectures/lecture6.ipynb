{
 "cells": [
  {
   "cell_type": "markdown",
   "source": [
    "# Lecture 6 - Puzzle time! (Regular Expressions)\n",
    "\n",
    "**Essential Skills For Computational Biology**\n",
    "\n",
    "*2020-06-30*\n",
    "\n",
    "Kevin Bonham, PhD"
   ],
   "metadata": {
    "name": "slideshow ",
    "slideshow": {
     "slide_type": "slide"
    }
   }
  },
  {
   "cell_type": "markdown",
   "source": [
    "## Strings contain patterns\n",
    "\n",
    "Here's a typical list of files from a DNA sequencing run:"
   ],
   "metadata": {
    "name": "A slide ",
    "slideshow": {
     "slide_type": "slide"
    }
   }
  },
  {
   "outputs": [],
   "cell_type": "code",
   "source": [
    "sequences = [\n",
    "    \"C0005-3F_L001_R1_001.fastq.gz\",\n",
    "    \"C0005-3F_L001_R2_001.fastq.gz\",\n",
    "    \"C0005-3F_L002_R1_001.fastq.gz\",\n",
    "    \"C0005-3F_L002_R2_001.fastq.gz\",\n",
    "    \"C0016-3E_L001_R1_001.fastq.gz\",\n",
    "    \"C0016-3E_L001_R2_001.fastq.gz\",\n",
    "    \"C0016-3E_L002_R1_001.fastq.gz\",\n",
    "    \"C0016-3E_L002_R2_001.fastq.gz\",\n",
    "]"
   ],
   "metadata": {},
   "execution_count": null
  },
  {
   "cell_type": "markdown",
   "source": [
    "##Simple Patterns:\n",
    "\n",
    "- `abc` matches literal \"abc\"\n",
    "- `[abc]` matches any one of `a`, `b`, or `c`\n",
    "- `[^abc]` matches any character _except_ `a`, `b`, or `c`\n",
    "- `[a-z0-9]` matches any lowercase letter or digit"
   ],
   "metadata": {
    "name": "A slide ",
    "slideshow": {
     "slide_type": "subslide"
    }
   }
  },
  {
   "cell_type": "markdown",
   "source": [
    "Puzzle: https://regexr.com/57ijc"
   ],
   "metadata": {
    "name": "A slide ",
    "slideshow": {
     "slide_type": "fragment"
    }
   }
  },
  {
   "cell_type": "markdown",
   "source": [
    "##Repeating Patterns:\n",
    "\n",
    "- `+` matches 1 or more of a pattern\n",
    "  - eg. `[0-9]+` matches one or more digits\n",
    "- `*` matches 0 or more of a pattern\n",
    "- `?` matches 0 or 1 of a pattern\n",
    "- `{N}` matches `N` of a pattern\n",
    "  - eg. `[abcdr]{4}` matches `abra` and `cada`, but not `abracadabra`\n",
    "  - Can also to ranges; `{2,4}` matches 2 to 4, `{3,}` is 3 or more"
   ],
   "metadata": {
    "name": "A slide ",
    "slideshow": {
     "slide_type": "subslide"
    }
   }
  },
  {
   "cell_type": "markdown",
   "source": [
    "Puzzle: https://regexr.com/57ik4"
   ],
   "metadata": {
    "name": "A slide ",
    "slideshow": {
     "slide_type": "fragment"
    }
   }
  },
  {
   "cell_type": "markdown",
   "source": [
    "## Special Patterns:\n",
    "\n",
    "- `.` matches any character, except a new line\n",
    "- `\\w` matches any word character (same as `[A-Za-z0-9_]`)\n",
    "- `\\d` matches any digit (same as `[0-9]`)\n",
    "- `\\s` matches any whitespace (space, tab, newline, etc)\n",
    "- If you need to match a character that is otherwise special,\n",
    "  \"escape\" it with `\\`\n",
    "  - eg. to match a literal period, `\\.`"
   ],
   "metadata": {
    "name": "A slide ",
    "slideshow": {
     "slide_type": "subslide"
    }
   }
  },
  {
   "cell_type": "markdown",
   "source": [
    "Puzzles:\n",
    "- https://regexr.com/57ikd\n",
    "- https://regexr.com/57ikg"
   ],
   "metadata": {
    "name": "A slide ",
    "slideshow": {
     "slide_type": "fragment"
    }
   }
  },
  {
   "cell_type": "markdown",
   "source": [
    "## More fun with regular Expressions\n",
    "\n",
    "- Use the regexr cheatsheet (or find another one - they're all over)\n",
    "  - There are _a lot_ more patterns that can be used\n",
    "- https://regexcrossword.com/\n",
    "- My most complicated regex to date:"
   ],
   "metadata": {
    "name": "A slide ",
    "slideshow": {
     "slide_type": "subslide"
    }
   }
  },
  {
   "cell_type": "markdown",
   "source": [
    "```\n",
    "^([`~]{3,})(?:(?:(?:\\\\{|\\\\{\\\\.|)(julia)(?:;|))|(@(docs|autodocs|ref|meta|index|content|example|repl|eval|setup|raw)))\\\\s*(?:.*?)(\\\\}|)\\\\s*$\n",
    "```"
   ],
   "metadata": {}
  },
  {
   "cell_type": "markdown",
   "source": [
    "> Some people, when confronted with a problem, think \"I know, I'll use regular expressions.\" Now they have two problems."
   ],
   "metadata": {
    "name": "A slide ",
    "slideshow": {
     "slide_type": "fragment"
    }
   }
  },
  {
   "cell_type": "markdown",
   "source": [
    "![xkcd regex](https://imgs.xkcd.com/comics/regular_expressions.png)"
   ],
   "metadata": {
    "name": "A slide ",
    "slideshow": {
     "slide_type": "subslide"
    }
   }
  },
  {
   "cell_type": "markdown",
   "source": [
    "## Regular expressions in julia"
   ],
   "metadata": {
    "name": "A slide ",
    "slideshow": {
     "slide_type": "slide"
    }
   }
  },
  {
   "outputs": [],
   "cell_type": "code",
   "source": [
    "for seq in sequences\n",
    "    m = match(r\"^([MC]\\d+\\-[0-9][EF])_L00.+fastq\\.gz\", seq)\n",
    "    println(m.captures[1])\n",
    "end"
   ],
   "metadata": {},
   "execution_count": null
  },
  {
   "cell_type": "markdown",
   "source": [
    "---\n",
    "\n",
    "*This notebook was generated using [Literate.jl](https://github.com/fredrikekre/Literate.jl).*"
   ],
   "metadata": {}
  }
 ],
 "nbformat_minor": 3,
 "metadata": {
  "language_info": {
   "file_extension": ".jl",
   "mimetype": "application/julia",
   "name": "julia",
   "version": "1.4.2"
  },
  "kernelspec": {
   "name": "julia-1.4",
   "display_name": "Julia 1.4.2",
   "language": "julia"
  }
 },
 "nbformat": 4
}
