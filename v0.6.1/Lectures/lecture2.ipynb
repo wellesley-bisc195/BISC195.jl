{
 "cells": [
  {
   "cell_type": "markdown",
   "source": [
    "# [Lecture 2 - Types and Functions]\n",
    "\n",
    "**Essential Skills For Computational Biology**\n",
    "\n",
    "*2020-06-08*\n",
    "\n",
    "Kevin Bonham, PhD"
   ],
   "metadata": {
    "name": "slideshow ",
    "slideshow": {
     "slide_type": "slide"
    }
   }
  },
  {
   "cell_type": "markdown",
   "source": [
    "## A program is data and operations on data"
   ],
   "metadata": {
    "name": "A slide ",
    "slideshow": {
     "slide_type": "slide"
    }
   }
  },
  {
   "outputs": [],
   "cell_type": "code",
   "source": [
    "chromosomes = 23 # this is data\n",
    "\n",
    "function diploid(n)\n",
    "    return n * 2 # this is an operation\n",
    "end"
   ],
   "metadata": {
    "name": "A slide ",
    "slideshow": {
     "slide_type": "fragment"
    }
   },
   "execution_count": null
  },
  {
   "outputs": [],
   "cell_type": "code",
   "source": [
    "diploid(chromosomes) # this is a program\n",
    "\n",
    "##nb # %% A slide [markdown] {\"slideshow\": {\"slide_type\": \"subslide\"}}"
   ],
   "metadata": {
    "name": "A slide ",
    "slideshow": {
     "slide_type": "fragment"
    }
   },
   "execution_count": null
  },
  {
   "cell_type": "markdown",
   "source": [
    "## How to run a julia program\n",
    "\n",
    "- From the REPL\n",
    "- From a script (Live demo)\n",
    "- From a file inside VS Code (Live demo)"
   ],
   "metadata": {}
  },
  {
   "cell_type": "markdown",
   "source": [
    "[Placeholder for video link](#)"
   ],
   "metadata": {
    "name": "A slide ",
    "slideshow": {
     "slide_type": "fragment"
    }
   }
  },
  {
   "cell_type": "markdown",
   "source": [
    "---\n",
    "\n",
    "*This notebook was generated using [Literate.jl](https://github.com/fredrikekre/Literate.jl).*"
   ],
   "metadata": {}
  }
 ],
 "nbformat_minor": 3,
 "metadata": {
  "language_info": {
   "file_extension": ".jl",
   "mimetype": "application/julia",
   "name": "julia",
   "version": "1.4.2"
  },
  "kernelspec": {
   "name": "julia-1.4",
   "display_name": "Julia 1.4.2",
   "language": "julia"
  }
 },
 "nbformat": 4
}
